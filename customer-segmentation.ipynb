{
 "cells": [
  {
   "cell_type": "markdown",
   "id": "fe3c03d7",
   "metadata": {
    "_cell_guid": "b1076dfc-b9ad-4769-8c92-a6c4dae69d19",
    "_uuid": "8f2839f25d086af736a60e9eeb907d3b93b6e0e5",
    "papermill": {
     "duration": 0.010711,
     "end_time": "2022-06-13T19:54:22.580409",
     "exception": false,
     "start_time": "2022-06-13T19:54:22.569698",
     "status": "completed"
    },
    "tags": []
   },
   "source": [
    "This Python 3 environment comes with many helpful analytics libraries installed\n",
    "It is defined by the kaggle/python Docker image: https://github.com/kaggle/docker-python\n",
    "For example, here's several helpful packages to load\n",
    "\n",
    "import numpy as np # linear algebra\n",
    "import pandas as pd # data processing, CSV file I/O (e.g. pd.read_csv)\n",
    "\n",
    "Input data files are available in the read-only \"../input/\" directory\n",
    "For example, running this (by clicking run or pressing Shift+Enter) will list all files under the input directory\n",
    "\n",
    "import os\n",
    "for dirname, _, filenames in os.walk('/kaggle/input'):\n",
    "    for filename in filenames:\n",
    "        print(os.path.join(dirname, filename))\n",
    "\n",
    "You can write up to 20GB to the current directory (/kaggle/working/) that gets preserved as output when you create a version using \"Save & Run All\" \n",
    "You can also write temporary files to /kaggle/temp/, but they won't be saved outside of the current session"
   ]
  },
  {
   "cell_type": "code",
   "execution_count": 1,
   "id": "37d3e6d6",
   "metadata": {
    "execution": {
     "iopub.execute_input": "2022-06-13T19:54:22.597590Z",
     "iopub.status.busy": "2022-06-13T19:54:22.596553Z",
     "iopub.status.idle": "2022-06-13T19:54:23.837820Z",
     "shell.execute_reply": "2022-06-13T19:54:23.836778Z"
    },
    "papermill": {
     "duration": 1.252344,
     "end_time": "2022-06-13T19:54:23.840457",
     "exception": false,
     "start_time": "2022-06-13T19:54:22.588113",
     "status": "completed"
    },
    "tags": []
   },
   "outputs": [],
   "source": [
    "import pandas as pd\n",
    "import numpy as np\n",
    "import matplotlib.pyplot as plt\n",
    "\n",
    "from sklearn.cluster import KMeans\n",
    "from sklearn.decomposition import PCA"
   ]
  },
  {
   "cell_type": "code",
   "execution_count": 2,
   "id": "aea6a422",
   "metadata": {
    "execution": {
     "iopub.execute_input": "2022-06-13T19:54:23.857131Z",
     "iopub.status.busy": "2022-06-13T19:54:23.856215Z",
     "iopub.status.idle": "2022-06-13T19:54:23.879352Z",
     "shell.execute_reply": "2022-06-13T19:54:23.878326Z"
    },
    "papermill": {
     "duration": 0.033942,
     "end_time": "2022-06-13T19:54:23.881686",
     "exception": false,
     "start_time": "2022-06-13T19:54:23.847744",
     "status": "completed"
    },
    "tags": []
   },
   "outputs": [],
   "source": [
    "data = pd.read_csv('../input/customer-segmentation-tutorial-in-python/Mall_Customers.csv')"
   ]
  },
  {
   "cell_type": "code",
   "execution_count": 3,
   "id": "c6861b39",
   "metadata": {
    "execution": {
     "iopub.execute_input": "2022-06-13T19:54:23.897421Z",
     "iopub.status.busy": "2022-06-13T19:54:23.897016Z",
     "iopub.status.idle": "2022-06-13T19:54:23.921870Z",
     "shell.execute_reply": "2022-06-13T19:54:23.920843Z"
    },
    "papermill": {
     "duration": 0.036038,
     "end_time": "2022-06-13T19:54:23.924850",
     "exception": false,
     "start_time": "2022-06-13T19:54:23.888812",
     "status": "completed"
    },
    "tags": []
   },
   "outputs": [
    {
     "data": {
      "text/html": [
       "<div>\n",
       "<style scoped>\n",
       "    .dataframe tbody tr th:only-of-type {\n",
       "        vertical-align: middle;\n",
       "    }\n",
       "\n",
       "    .dataframe tbody tr th {\n",
       "        vertical-align: top;\n",
       "    }\n",
       "\n",
       "    .dataframe thead th {\n",
       "        text-align: right;\n",
       "    }\n",
       "</style>\n",
       "<table border=\"1\" class=\"dataframe\">\n",
       "  <thead>\n",
       "    <tr style=\"text-align: right;\">\n",
       "      <th></th>\n",
       "      <th>CustomerID</th>\n",
       "      <th>Gender</th>\n",
       "      <th>Age</th>\n",
       "      <th>Annual Income (k$)</th>\n",
       "      <th>Spending Score (1-100)</th>\n",
       "    </tr>\n",
       "  </thead>\n",
       "  <tbody>\n",
       "    <tr>\n",
       "      <th>0</th>\n",
       "      <td>1</td>\n",
       "      <td>Male</td>\n",
       "      <td>19</td>\n",
       "      <td>15</td>\n",
       "      <td>39</td>\n",
       "    </tr>\n",
       "    <tr>\n",
       "      <th>1</th>\n",
       "      <td>2</td>\n",
       "      <td>Male</td>\n",
       "      <td>21</td>\n",
       "      <td>15</td>\n",
       "      <td>81</td>\n",
       "    </tr>\n",
       "    <tr>\n",
       "      <th>2</th>\n",
       "      <td>3</td>\n",
       "      <td>Female</td>\n",
       "      <td>20</td>\n",
       "      <td>16</td>\n",
       "      <td>6</td>\n",
       "    </tr>\n",
       "    <tr>\n",
       "      <th>3</th>\n",
       "      <td>4</td>\n",
       "      <td>Female</td>\n",
       "      <td>23</td>\n",
       "      <td>16</td>\n",
       "      <td>77</td>\n",
       "    </tr>\n",
       "    <tr>\n",
       "      <th>4</th>\n",
       "      <td>5</td>\n",
       "      <td>Female</td>\n",
       "      <td>31</td>\n",
       "      <td>17</td>\n",
       "      <td>40</td>\n",
       "    </tr>\n",
       "    <tr>\n",
       "      <th>...</th>\n",
       "      <td>...</td>\n",
       "      <td>...</td>\n",
       "      <td>...</td>\n",
       "      <td>...</td>\n",
       "      <td>...</td>\n",
       "    </tr>\n",
       "    <tr>\n",
       "      <th>195</th>\n",
       "      <td>196</td>\n",
       "      <td>Female</td>\n",
       "      <td>35</td>\n",
       "      <td>120</td>\n",
       "      <td>79</td>\n",
       "    </tr>\n",
       "    <tr>\n",
       "      <th>196</th>\n",
       "      <td>197</td>\n",
       "      <td>Female</td>\n",
       "      <td>45</td>\n",
       "      <td>126</td>\n",
       "      <td>28</td>\n",
       "    </tr>\n",
       "    <tr>\n",
       "      <th>197</th>\n",
       "      <td>198</td>\n",
       "      <td>Male</td>\n",
       "      <td>32</td>\n",
       "      <td>126</td>\n",
       "      <td>74</td>\n",
       "    </tr>\n",
       "    <tr>\n",
       "      <th>198</th>\n",
       "      <td>199</td>\n",
       "      <td>Male</td>\n",
       "      <td>32</td>\n",
       "      <td>137</td>\n",
       "      <td>18</td>\n",
       "    </tr>\n",
       "    <tr>\n",
       "      <th>199</th>\n",
       "      <td>200</td>\n",
       "      <td>Male</td>\n",
       "      <td>30</td>\n",
       "      <td>137</td>\n",
       "      <td>83</td>\n",
       "    </tr>\n",
       "  </tbody>\n",
       "</table>\n",
       "<p>200 rows × 5 columns</p>\n",
       "</div>"
      ],
      "text/plain": [
       "     CustomerID  Gender  Age  Annual Income (k$)  Spending Score (1-100)\n",
       "0             1    Male   19                  15                      39\n",
       "1             2    Male   21                  15                      81\n",
       "2             3  Female   20                  16                       6\n",
       "3             4  Female   23                  16                      77\n",
       "4             5  Female   31                  17                      40\n",
       "..          ...     ...  ...                 ...                     ...\n",
       "195         196  Female   35                 120                      79\n",
       "196         197  Female   45                 126                      28\n",
       "197         198    Male   32                 126                      74\n",
       "198         199    Male   32                 137                      18\n",
       "199         200    Male   30                 137                      83\n",
       "\n",
       "[200 rows x 5 columns]"
      ]
     },
     "execution_count": 3,
     "metadata": {},
     "output_type": "execute_result"
    }
   ],
   "source": [
    "data"
   ]
  },
  {
   "cell_type": "markdown",
   "id": "801ce437",
   "metadata": {
    "papermill": {
     "duration": 0.007176,
     "end_time": "2022-06-13T19:54:23.939404",
     "exception": false,
     "start_time": "2022-06-13T19:54:23.932228",
     "status": "completed"
    },
    "tags": []
   },
   "source": [
    "# Preprocessing"
   ]
  },
  {
   "cell_type": "code",
   "execution_count": 4,
   "id": "2541825f",
   "metadata": {
    "execution": {
     "iopub.execute_input": "2022-06-13T19:54:23.955847Z",
     "iopub.status.busy": "2022-06-13T19:54:23.955273Z",
     "iopub.status.idle": "2022-06-13T19:54:23.963167Z",
     "shell.execute_reply": "2022-06-13T19:54:23.962548Z"
    },
    "papermill": {
     "duration": 0.018434,
     "end_time": "2022-06-13T19:54:23.965132",
     "exception": false,
     "start_time": "2022-06-13T19:54:23.946698",
     "status": "completed"
    },
    "tags": []
   },
   "outputs": [],
   "source": [
    "#dropping customerId feature\n",
    "\n",
    "data = data.drop('CustomerID', axis=1)"
   ]
  },
  {
   "cell_type": "code",
   "execution_count": 5,
   "id": "ff05e239",
   "metadata": {
    "execution": {
     "iopub.execute_input": "2022-06-13T19:54:23.982126Z",
     "iopub.status.busy": "2022-06-13T19:54:23.981734Z",
     "iopub.status.idle": "2022-06-13T19:54:23.988334Z",
     "shell.execute_reply": "2022-06-13T19:54:23.987681Z"
    },
    "papermill": {
     "duration": 0.017585,
     "end_time": "2022-06-13T19:54:23.990391",
     "exception": false,
     "start_time": "2022-06-13T19:54:23.972806",
     "status": "completed"
    },
    "tags": []
   },
   "outputs": [],
   "source": [
    "#labelencoding the categorical feature\n",
    "\n",
    "data['Gender'] = data['Gender'].replace({'Female': 0, 'Male': 1})"
   ]
  },
  {
   "cell_type": "code",
   "execution_count": 6,
   "id": "ef829f06",
   "metadata": {
    "execution": {
     "iopub.execute_input": "2022-06-13T19:54:24.007371Z",
     "iopub.status.busy": "2022-06-13T19:54:24.006624Z",
     "iopub.status.idle": "2022-06-13T19:54:24.014449Z",
     "shell.execute_reply": "2022-06-13T19:54:24.013785Z"
    },
    "papermill": {
     "duration": 0.018532,
     "end_time": "2022-06-13T19:54:24.016393",
     "exception": false,
     "start_time": "2022-06-13T19:54:23.997861",
     "status": "completed"
    },
    "tags": []
   },
   "outputs": [],
   "source": [
    "from sklearn.preprocessing import StandardScaler\n",
    "scaler = StandardScaler()\n",
    "scaled_data = pd.DataFrame(scaler.fit_transform(data), columns=data.columns)"
   ]
  },
  {
   "cell_type": "code",
   "execution_count": 7,
   "id": "dee596b3",
   "metadata": {
    "execution": {
     "iopub.execute_input": "2022-06-13T19:54:24.033078Z",
     "iopub.status.busy": "2022-06-13T19:54:24.032577Z",
     "iopub.status.idle": "2022-06-13T19:54:24.045247Z",
     "shell.execute_reply": "2022-06-13T19:54:24.044485Z"
    },
    "papermill": {
     "duration": 0.023752,
     "end_time": "2022-06-13T19:54:24.047417",
     "exception": false,
     "start_time": "2022-06-13T19:54:24.023665",
     "status": "completed"
    },
    "tags": []
   },
   "outputs": [
    {
     "data": {
      "text/html": [
       "<div>\n",
       "<style scoped>\n",
       "    .dataframe tbody tr th:only-of-type {\n",
       "        vertical-align: middle;\n",
       "    }\n",
       "\n",
       "    .dataframe tbody tr th {\n",
       "        vertical-align: top;\n",
       "    }\n",
       "\n",
       "    .dataframe thead th {\n",
       "        text-align: right;\n",
       "    }\n",
       "</style>\n",
       "<table border=\"1\" class=\"dataframe\">\n",
       "  <thead>\n",
       "    <tr style=\"text-align: right;\">\n",
       "      <th></th>\n",
       "      <th>Gender</th>\n",
       "      <th>Age</th>\n",
       "      <th>Annual Income (k$)</th>\n",
       "      <th>Spending Score (1-100)</th>\n",
       "    </tr>\n",
       "  </thead>\n",
       "  <tbody>\n",
       "    <tr>\n",
       "      <th>0</th>\n",
       "      <td>1.128152</td>\n",
       "      <td>-1.424569</td>\n",
       "      <td>-1.738999</td>\n",
       "      <td>-0.434801</td>\n",
       "    </tr>\n",
       "    <tr>\n",
       "      <th>1</th>\n",
       "      <td>1.128152</td>\n",
       "      <td>-1.281035</td>\n",
       "      <td>-1.738999</td>\n",
       "      <td>1.195704</td>\n",
       "    </tr>\n",
       "    <tr>\n",
       "      <th>2</th>\n",
       "      <td>-0.886405</td>\n",
       "      <td>-1.352802</td>\n",
       "      <td>-1.700830</td>\n",
       "      <td>-1.715913</td>\n",
       "    </tr>\n",
       "    <tr>\n",
       "      <th>3</th>\n",
       "      <td>-0.886405</td>\n",
       "      <td>-1.137502</td>\n",
       "      <td>-1.700830</td>\n",
       "      <td>1.040418</td>\n",
       "    </tr>\n",
       "    <tr>\n",
       "      <th>4</th>\n",
       "      <td>-0.886405</td>\n",
       "      <td>-0.563369</td>\n",
       "      <td>-1.662660</td>\n",
       "      <td>-0.395980</td>\n",
       "    </tr>\n",
       "    <tr>\n",
       "      <th>...</th>\n",
       "      <td>...</td>\n",
       "      <td>...</td>\n",
       "      <td>...</td>\n",
       "      <td>...</td>\n",
       "    </tr>\n",
       "    <tr>\n",
       "      <th>195</th>\n",
       "      <td>-0.886405</td>\n",
       "      <td>-0.276302</td>\n",
       "      <td>2.268791</td>\n",
       "      <td>1.118061</td>\n",
       "    </tr>\n",
       "    <tr>\n",
       "      <th>196</th>\n",
       "      <td>-0.886405</td>\n",
       "      <td>0.441365</td>\n",
       "      <td>2.497807</td>\n",
       "      <td>-0.861839</td>\n",
       "    </tr>\n",
       "    <tr>\n",
       "      <th>197</th>\n",
       "      <td>1.128152</td>\n",
       "      <td>-0.491602</td>\n",
       "      <td>2.497807</td>\n",
       "      <td>0.923953</td>\n",
       "    </tr>\n",
       "    <tr>\n",
       "      <th>198</th>\n",
       "      <td>1.128152</td>\n",
       "      <td>-0.491602</td>\n",
       "      <td>2.917671</td>\n",
       "      <td>-1.250054</td>\n",
       "    </tr>\n",
       "    <tr>\n",
       "      <th>199</th>\n",
       "      <td>1.128152</td>\n",
       "      <td>-0.635135</td>\n",
       "      <td>2.917671</td>\n",
       "      <td>1.273347</td>\n",
       "    </tr>\n",
       "  </tbody>\n",
       "</table>\n",
       "<p>200 rows × 4 columns</p>\n",
       "</div>"
      ],
      "text/plain": [
       "       Gender       Age  Annual Income (k$)  Spending Score (1-100)\n",
       "0    1.128152 -1.424569           -1.738999               -0.434801\n",
       "1    1.128152 -1.281035           -1.738999                1.195704\n",
       "2   -0.886405 -1.352802           -1.700830               -1.715913\n",
       "3   -0.886405 -1.137502           -1.700830                1.040418\n",
       "4   -0.886405 -0.563369           -1.662660               -0.395980\n",
       "..        ...       ...                 ...                     ...\n",
       "195 -0.886405 -0.276302            2.268791                1.118061\n",
       "196 -0.886405  0.441365            2.497807               -0.861839\n",
       "197  1.128152 -0.491602            2.497807                0.923953\n",
       "198  1.128152 -0.491602            2.917671               -1.250054\n",
       "199  1.128152 -0.635135            2.917671                1.273347\n",
       "\n",
       "[200 rows x 4 columns]"
      ]
     },
     "execution_count": 7,
     "metadata": {},
     "output_type": "execute_result"
    }
   ],
   "source": [
    "scaled_data"
   ]
  },
  {
   "cell_type": "markdown",
   "id": "9139e591",
   "metadata": {
    "papermill": {
     "duration": 0.007266,
     "end_time": "2022-06-13T19:54:24.062412",
     "exception": false,
     "start_time": "2022-06-13T19:54:24.055146",
     "status": "completed"
    },
    "tags": []
   },
   "source": [
    "# Clustering"
   ]
  },
  {
   "cell_type": "code",
   "execution_count": 8,
   "id": "7a6afbd3",
   "metadata": {
    "execution": {
     "iopub.execute_input": "2022-06-13T19:54:24.079821Z",
     "iopub.status.busy": "2022-06-13T19:54:24.079249Z",
     "iopub.status.idle": "2022-06-13T19:54:24.082964Z",
     "shell.execute_reply": "2022-06-13T19:54:24.082315Z"
    },
    "papermill": {
     "duration": 0.014857,
     "end_time": "2022-06-13T19:54:24.085038",
     "exception": false,
     "start_time": "2022-06-13T19:54:24.070181",
     "status": "completed"
    },
    "tags": []
   },
   "outputs": [],
   "source": [
    "# using elbow method to choose the clusters\n",
    "\n",
    "max_clusters = 50"
   ]
  },
  {
   "cell_type": "code",
   "execution_count": 9,
   "id": "41eb2954",
   "metadata": {
    "execution": {
     "iopub.execute_input": "2022-06-13T19:54:24.102260Z",
     "iopub.status.busy": "2022-06-13T19:54:24.101753Z",
     "iopub.status.idle": "2022-06-13T19:54:27.940444Z",
     "shell.execute_reply": "2022-06-13T19:54:27.939409Z"
    },
    "papermill": {
     "duration": 3.850143,
     "end_time": "2022-06-13T19:54:27.942955",
     "exception": false,
     "start_time": "2022-06-13T19:54:24.092812",
     "status": "completed"
    },
    "tags": []
   },
   "outputs": [],
   "source": [
    "kmeans_tests = [KMeans(n_clusters=i, n_init=10) for i in range(1, max_clusters)]\n",
    "inertia = [kmeans_tests[i].fit(scaled_data).inertia_ for i in range(len(kmeans_tests))]"
   ]
  },
  {
   "cell_type": "code",
   "execution_count": 10,
   "id": "ea0bbd36",
   "metadata": {
    "execution": {
     "iopub.execute_input": "2022-06-13T19:54:27.962021Z",
     "iopub.status.busy": "2022-06-13T19:54:27.961623Z",
     "iopub.status.idle": "2022-06-13T19:54:28.193078Z",
     "shell.execute_reply": "2022-06-13T19:54:28.192363Z"
    },
    "papermill": {
     "duration": 0.243239,
     "end_time": "2022-06-13T19:54:28.195215",
     "exception": false,
     "start_time": "2022-06-13T19:54:27.951976",
     "status": "completed"
    },
    "tags": []
   },
   "outputs": [
    {
     "data": {
      "image/png": "[encoded data removed]",
      "text/plain": [
       "<Figure size 504x360 with 1 Axes>"
      ]
     },
     "metadata": {
      "needs_background": "light"
     },
     "output_type": "display_data"
    }
   ],
   "source": [
    "plt.figure(figsize=(7,5))\n",
    "plt.plot(range(1, max_clusters), inertia)\n",
    "plt.xlabel('Number of clusters')\n",
    "plt.ylabel('Choosing the number of clusters')\n",
    "plt.show()"
   ]
  },
  {
   "cell_type": "code",
   "execution_count": 11,
   "id": "9534d547",
   "metadata": {
    "execution": {
     "iopub.execute_input": "2022-06-13T19:54:28.213369Z",
     "iopub.status.busy": "2022-06-13T19:54:28.212841Z",
     "iopub.status.idle": "2022-06-13T19:54:28.272318Z",
     "shell.execute_reply": "2022-06-13T19:54:28.271378Z"
    },
    "papermill": {
     "duration": 0.071081,
     "end_time": "2022-06-13T19:54:28.274640",
     "exception": false,
     "start_time": "2022-06-13T19:54:28.203559",
     "status": "completed"
    },
    "tags": []
   },
   "outputs": [
    {
     "data": {
      "text/plain": [
       "KMeans(n_clusters=10)"
      ]
     },
     "execution_count": 11,
     "metadata": {},
     "output_type": "execute_result"
    }
   ],
   "source": [
    "kmeans = KMeans(n_clusters=10, n_init=10)\n",
    "kmeans.fit(scaled_data)"
   ]
  },
  {
   "cell_type": "code",
   "execution_count": 12,
   "id": "96404602",
   "metadata": {
    "execution": {
     "iopub.execute_input": "2022-06-13T19:54:28.293923Z",
     "iopub.status.busy": "2022-06-13T19:54:28.293180Z",
     "iopub.status.idle": "2022-06-13T19:54:28.307937Z",
     "shell.execute_reply": "2022-06-13T19:54:28.307221Z"
    },
    "papermill": {
     "duration": 0.026279,
     "end_time": "2022-06-13T19:54:28.310267",
     "exception": false,
     "start_time": "2022-06-13T19:54:28.283988",
     "status": "completed"
    },
    "tags": []
   },
   "outputs": [
    {
     "data": {
      "text/plain": [
       "array([2, 2, 0, 4, 0, 4, 0, 4, 3, 4, 3, 4, 0, 4, 0, 2, 0, 2, 3, 4, 2, 2,\n",
       "       0, 2, 0, 2, 0, 2, 0, 4, 3, 4, 3, 2, 0, 4, 0, 4, 0, 4, 6, 2, 3, 4,\n",
       "       0, 4, 6, 7, 7, 7, 6, 2, 7, 3, 6, 3, 6, 3, 7, 3, 3, 2, 6, 6, 3, 2,\n",
       "       6, 6, 2, 7, 3, 6, 6, 6, 3, 2, 6, 2, 7, 6, 3, 2, 3, 6, 7, 3, 6, 7,\n",
       "       7, 6, 6, 2, 3, 7, 7, 2, 6, 7, 3, 2, 7, 6, 3, 2, 3, 7, 6, 3, 3, 3,\n",
       "       3, 7, 7, 2, 7, 7, 6, 6, 6, 6, 2, 7, 7, 8, 7, 1, 5, 8, 3, 8, 5, 8,\n",
       "       7, 1, 5, 1, 9, 8, 5, 1, 9, 8, 7, 1, 5, 8, 5, 1, 9, 8, 5, 8, 9, 1,\n",
       "       9, 1, 5, 1, 5, 1, 6, 1, 5, 1, 5, 1, 5, 1, 9, 8, 5, 8, 5, 8, 9, 1,\n",
       "       5, 8, 5, 8, 9, 1, 5, 1, 9, 8, 9, 8, 9, 1, 9, 1, 5, 1, 9, 1, 9, 8,\n",
       "       5, 8], dtype=int32)"
      ]
     },
     "execution_count": 12,
     "metadata": {},
     "output_type": "execute_result"
    }
   ],
   "source": [
    "clusters = kmeans.predict(scaled_data)\n",
    "clusters"
   ]
  },
  {
   "cell_type": "markdown",
   "id": "fc811122",
   "metadata": {
    "papermill": {
     "duration": 0.007934,
     "end_time": "2022-06-13T19:54:28.328417",
     "exception": false,
     "start_time": "2022-06-13T19:54:28.320483",
     "status": "completed"
    },
    "tags": []
   },
   "source": [
    "# Principle Components analysis"
   ]
  },
  {
   "cell_type": "code",
   "execution_count": 13,
   "id": "c46ab8cd",
   "metadata": {
    "execution": {
     "iopub.execute_input": "2022-06-13T19:54:28.346182Z",
     "iopub.status.busy": "2022-06-13T19:54:28.345792Z",
     "iopub.status.idle": "2022-06-13T19:54:28.364081Z",
     "shell.execute_reply": "2022-06-13T19:54:28.363336Z"
    },
    "papermill": {
     "duration": 0.029671,
     "end_time": "2022-06-13T19:54:28.366295",
     "exception": false,
     "start_time": "2022-06-13T19:54:28.336624",
     "status": "completed"
    },
    "tags": []
   },
   "outputs": [],
   "source": [
    "pca = PCA(n_components=2)\n",
    "\n",
    "reduced_data = pd.DataFrame(pca.fit_transform(scaled_data.values), columns=['PC1', 'PC2'])"
   ]
  },
  {
   "cell_type": "code",
   "execution_count": 14,
   "id": "6e8a3ee6",
   "metadata": {
    "execution": {
     "iopub.execute_input": "2022-06-13T19:54:28.385894Z",
     "iopub.status.busy": "2022-06-13T19:54:28.385123Z",
     "iopub.status.idle": "2022-06-13T19:54:28.397909Z",
     "shell.execute_reply": "2022-06-13T19:54:28.396960Z"
    },
    "papermill": {
     "duration": 0.02518,
     "end_time": "2022-06-13T19:54:28.400008",
     "exception": false,
     "start_time": "2022-06-13T19:54:28.374828",
     "status": "completed"
    },
    "tags": []
   },
   "outputs": [
    {
     "data": {
      "text/html": [
       "<div>\n",
       "<style scoped>\n",
       "    .dataframe tbody tr th:only-of-type {\n",
       "        vertical-align: middle;\n",
       "    }\n",
       "\n",
       "    .dataframe tbody tr th {\n",
       "        vertical-align: top;\n",
       "    }\n",
       "\n",
       "    .dataframe thead th {\n",
       "        text-align: right;\n",
       "    }\n",
       "</style>\n",
       "<table border=\"1\" class=\"dataframe\">\n",
       "  <thead>\n",
       "    <tr style=\"text-align: right;\">\n",
       "      <th></th>\n",
       "      <th>PC1</th>\n",
       "      <th>PC2</th>\n",
       "    </tr>\n",
       "  </thead>\n",
       "  <tbody>\n",
       "    <tr>\n",
       "      <th>0</th>\n",
       "      <td>-0.406383</td>\n",
       "      <td>-0.520714</td>\n",
       "    </tr>\n",
       "    <tr>\n",
       "      <th>1</th>\n",
       "      <td>-1.427673</td>\n",
       "      <td>-0.367310</td>\n",
       "    </tr>\n",
       "    <tr>\n",
       "      <th>2</th>\n",
       "      <td>0.050761</td>\n",
       "      <td>-1.894068</td>\n",
       "    </tr>\n",
       "    <tr>\n",
       "      <th>3</th>\n",
       "      <td>-1.694513</td>\n",
       "      <td>-1.631908</td>\n",
       "    </tr>\n",
       "    <tr>\n",
       "      <th>4</th>\n",
       "      <td>-0.313108</td>\n",
       "      <td>-1.810483</td>\n",
       "    </tr>\n",
       "    <tr>\n",
       "      <th>...</th>\n",
       "      <td>...</td>\n",
       "      <td>...</td>\n",
       "    </tr>\n",
       "    <tr>\n",
       "      <th>195</th>\n",
       "      <td>-1.179572</td>\n",
       "      <td>1.324568</td>\n",
       "    </tr>\n",
       "    <tr>\n",
       "      <th>196</th>\n",
       "      <td>0.672751</td>\n",
       "      <td>1.221061</td>\n",
       "    </tr>\n",
       "    <tr>\n",
       "      <th>197</th>\n",
       "      <td>-0.723719</td>\n",
       "      <td>2.765010</td>\n",
       "    </tr>\n",
       "    <tr>\n",
       "      <th>198</th>\n",
       "      <td>0.767096</td>\n",
       "      <td>2.861930</td>\n",
       "    </tr>\n",
       "    <tr>\n",
       "      <th>199</th>\n",
       "      <td>-1.065015</td>\n",
       "      <td>3.137256</td>\n",
       "    </tr>\n",
       "  </tbody>\n",
       "</table>\n",
       "<p>200 rows × 2 columns</p>\n",
       "</div>"
      ],
      "text/plain": [
       "          PC1       PC2\n",
       "0   -0.406383 -0.520714\n",
       "1   -1.427673 -0.367310\n",
       "2    0.050761 -1.894068\n",
       "3   -1.694513 -1.631908\n",
       "4   -0.313108 -1.810483\n",
       "..        ...       ...\n",
       "195 -1.179572  1.324568\n",
       "196  0.672751  1.221061\n",
       "197 -0.723719  2.765010\n",
       "198  0.767096  2.861930\n",
       "199 -1.065015  3.137256\n",
       "\n",
       "[200 rows x 2 columns]"
      ]
     },
     "execution_count": 14,
     "metadata": {},
     "output_type": "execute_result"
    }
   ],
   "source": [
    "reduced_data"
   ]
  },
  {
   "cell_type": "code",
   "execution_count": 15,
   "id": "f7f69960",
   "metadata": {
    "execution": {
     "iopub.execute_input": "2022-06-13T19:54:28.418979Z",
     "iopub.status.busy": "2022-06-13T19:54:28.418225Z",
     "iopub.status.idle": "2022-06-13T19:54:28.425208Z",
     "shell.execute_reply": "2022-06-13T19:54:28.424384Z"
    },
    "papermill": {
     "duration": 0.018816,
     "end_time": "2022-06-13T19:54:28.427245",
     "exception": false,
     "start_time": "2022-06-13T19:54:28.408429",
     "status": "completed"
    },
    "tags": []
   },
   "outputs": [
    {
     "data": {
      "text/plain": [
       "array([[-0.7425083 ,  0.16967696, -1.31640908, -1.1668652 ],\n",
       "       [-0.88640526, -0.47793198,  0.97284787,  1.22158511],\n",
       "       [ 1.12815215, -0.97602698, -0.73705168,  0.41603773],\n",
       "       [ 1.12815215,  1.43505777, -0.45298304, -0.40195247],\n",
       "       [-0.88640526, -0.93245435, -1.29459798,  1.12360689],\n",
       "       [ 1.12815215, -0.02700694,  0.96701244, -1.39716754],\n",
       "       [-0.88640526,  1.09830638, -0.24158313, -0.04807901],\n",
       "       [-0.88640526, -0.7906297 , -0.09294256, -0.14202221],\n",
       "       [ 1.12815215, -0.39989994,  1.01344075,  1.26040667],\n",
       "       [-0.88640526,  0.35421988,  1.24912183, -1.14745442]])"
      ]
     },
     "execution_count": 15,
     "metadata": {},
     "output_type": "execute_result"
    }
   ],
   "source": [
    "kmeans.cluster_centers_"
   ]
  },
  {
   "cell_type": "code",
   "execution_count": 16,
   "id": "73bbe038",
   "metadata": {
    "execution": {
     "iopub.execute_input": "2022-06-13T19:54:28.446410Z",
     "iopub.status.busy": "2022-06-13T19:54:28.445698Z",
     "iopub.status.idle": "2022-06-13T19:54:28.450589Z",
     "shell.execute_reply": "2022-06-13T19:54:28.449836Z"
    },
    "papermill": {
     "duration": 0.016828,
     "end_time": "2022-06-13T19:54:28.452650",
     "exception": false,
     "start_time": "2022-06-13T19:54:28.435822",
     "status": "completed"
    },
    "tags": []
   },
   "outputs": [],
   "source": [
    "reduced_centers = pca.transform(kmeans.cluster_centers_)"
   ]
  },
  {
   "cell_type": "code",
   "execution_count": 17,
   "id": "edef9239",
   "metadata": {
    "execution": {
     "iopub.execute_input": "2022-06-13T19:54:28.472004Z",
     "iopub.status.busy": "2022-06-13T19:54:28.471228Z",
     "iopub.status.idle": "2022-06-13T19:54:28.478236Z",
     "shell.execute_reply": "2022-06-13T19:54:28.477332Z"
    },
    "papermill": {
     "duration": 0.019204,
     "end_time": "2022-06-13T19:54:28.480380",
     "exception": false,
     "start_time": "2022-06-13T19:54:28.461176",
     "status": "completed"
    },
    "tags": []
   },
   "outputs": [
    {
     "data": {
      "text/plain": [
       "array([[ 0.75229959, -1.61087948],\n",
       "       [-1.38150389,  0.3644368 ],\n",
       "       [-0.68838314,  0.28733559],\n",
       "       [ 1.5303687 ,  0.17028966],\n",
       "       [-1.61307574, -1.33371367],\n",
       "       [ 1.19961046,  1.30582744],\n",
       "       [ 0.58233488, -0.85939176],\n",
       "       [-0.65343732, -0.55947734],\n",
       "       [-0.88272588,  1.65431318],\n",
       "       [ 0.81659377,  0.24505923]])"
      ]
     },
     "execution_count": 17,
     "metadata": {},
     "output_type": "execute_result"
    }
   ],
   "source": [
    "reduced_centers"
   ]
  },
  {
   "cell_type": "code",
   "execution_count": 18,
   "id": "534100db",
   "metadata": {
    "execution": {
     "iopub.execute_input": "2022-06-13T19:54:28.499892Z",
     "iopub.status.busy": "2022-06-13T19:54:28.499173Z",
     "iopub.status.idle": "2022-06-13T19:54:28.505963Z",
     "shell.execute_reply": "2022-06-13T19:54:28.505146Z"
    },
    "papermill": {
     "duration": 0.019011,
     "end_time": "2022-06-13T19:54:28.508185",
     "exception": false,
     "start_time": "2022-06-13T19:54:28.489174",
     "status": "completed"
    },
    "tags": []
   },
   "outputs": [],
   "source": [
    "reduced_data['clusters'] = clusters"
   ]
  },
  {
   "cell_type": "code",
   "execution_count": 19,
   "id": "1ae86200",
   "metadata": {
    "execution": {
     "iopub.execute_input": "2022-06-13T19:54:28.528565Z",
     "iopub.status.busy": "2022-06-13T19:54:28.528145Z",
     "iopub.status.idle": "2022-06-13T19:54:28.542624Z",
     "shell.execute_reply": "2022-06-13T19:54:28.541661Z"
    },
    "papermill": {
     "duration": 0.02741,
     "end_time": "2022-06-13T19:54:28.544597",
     "exception": false,
     "start_time": "2022-06-13T19:54:28.517187",
     "status": "completed"
    },
    "tags": []
   },
   "outputs": [
    {
     "data": {
      "text/html": [
       "<div>\n",
       "<style scoped>\n",
       "    .dataframe tbody tr th:only-of-type {\n",
       "        vertical-align: middle;\n",
       "    }\n",
       "\n",
       "    .dataframe tbody tr th {\n",
       "        vertical-align: top;\n",
       "    }\n",
       "\n",
       "    .dataframe thead th {\n",
       "        text-align: right;\n",
       "    }\n",
       "</style>\n",
       "<table border=\"1\" class=\"dataframe\">\n",
       "  <thead>\n",
       "    <tr style=\"text-align: right;\">\n",
       "      <th></th>\n",
       "      <th>PC1</th>\n",
       "      <th>PC2</th>\n",
       "      <th>clusters</th>\n",
       "    </tr>\n",
       "  </thead>\n",
       "  <tbody>\n",
       "    <tr>\n",
       "      <th>0</th>\n",
       "      <td>-0.406383</td>\n",
       "      <td>-0.520714</td>\n",
       "      <td>2</td>\n",
       "    </tr>\n",
       "    <tr>\n",
       "      <th>1</th>\n",
       "      <td>-1.427673</td>\n",
       "      <td>-0.367310</td>\n",
       "      <td>2</td>\n",
       "    </tr>\n",
       "    <tr>\n",
       "      <th>2</th>\n",
       "      <td>0.050761</td>\n",
       "      <td>-1.894068</td>\n",
       "      <td>0</td>\n",
       "    </tr>\n",
       "    <tr>\n",
       "      <th>3</th>\n",
       "      <td>-1.694513</td>\n",
       "      <td>-1.631908</td>\n",
       "      <td>4</td>\n",
       "    </tr>\n",
       "    <tr>\n",
       "      <th>4</th>\n",
       "      <td>-0.313108</td>\n",
       "      <td>-1.810483</td>\n",
       "      <td>0</td>\n",
       "    </tr>\n",
       "    <tr>\n",
       "      <th>...</th>\n",
       "      <td>...</td>\n",
       "      <td>...</td>\n",
       "      <td>...</td>\n",
       "    </tr>\n",
       "    <tr>\n",
       "      <th>195</th>\n",
       "      <td>-1.179572</td>\n",
       "      <td>1.324568</td>\n",
       "      <td>1</td>\n",
       "    </tr>\n",
       "    <tr>\n",
       "      <th>196</th>\n",
       "      <td>0.672751</td>\n",
       "      <td>1.221061</td>\n",
       "      <td>9</td>\n",
       "    </tr>\n",
       "    <tr>\n",
       "      <th>197</th>\n",
       "      <td>-0.723719</td>\n",
       "      <td>2.765010</td>\n",
       "      <td>8</td>\n",
       "    </tr>\n",
       "    <tr>\n",
       "      <th>198</th>\n",
       "      <td>0.767096</td>\n",
       "      <td>2.861930</td>\n",
       "      <td>5</td>\n",
       "    </tr>\n",
       "    <tr>\n",
       "      <th>199</th>\n",
       "      <td>-1.065015</td>\n",
       "      <td>3.137256</td>\n",
       "      <td>8</td>\n",
       "    </tr>\n",
       "  </tbody>\n",
       "</table>\n",
       "<p>200 rows × 3 columns</p>\n",
       "</div>"
      ],
      "text/plain": [
       "          PC1       PC2  clusters\n",
       "0   -0.406383 -0.520714         2\n",
       "1   -1.427673 -0.367310         2\n",
       "2    0.050761 -1.894068         0\n",
       "3   -1.694513 -1.631908         4\n",
       "4   -0.313108 -1.810483         0\n",
       "..        ...       ...       ...\n",
       "195 -1.179572  1.324568         1\n",
       "196  0.672751  1.221061         9\n",
       "197 -0.723719  2.765010         8\n",
       "198  0.767096  2.861930         5\n",
       "199 -1.065015  3.137256         8\n",
       "\n",
       "[200 rows x 3 columns]"
      ]
     },
     "execution_count": 19,
     "metadata": {},
     "output_type": "execute_result"
    }
   ],
   "source": [
    "reduced_data"
   ]
  },
  {
   "cell_type": "markdown",
   "id": "3cdcd2e7",
   "metadata": {
    "papermill": {
     "duration": 0.00866,
     "end_time": "2022-06-13T19:54:28.562546",
     "exception": false,
     "start_time": "2022-06-13T19:54:28.553886",
     "status": "completed"
    },
    "tags": []
   },
   "source": [
    "# Data visualization"
   ]
  },
  {
   "cell_type": "code",
   "execution_count": 20,
   "id": "c722b5e7",
   "metadata": {
    "execution": {
     "iopub.execute_input": "2022-06-13T19:54:28.582315Z",
     "iopub.status.busy": "2022-06-13T19:54:28.581727Z",
     "iopub.status.idle": "2022-06-13T19:54:28.925660Z",
     "shell.execute_reply": "2022-06-13T19:54:28.924511Z"
    },
    "papermill": {
     "duration": 0.356272,
     "end_time": "2022-06-13T19:54:28.927795",
     "exception": false,
     "start_time": "2022-06-13T19:54:28.571523",
     "status": "completed"
    },
    "tags": []
   },
   "outputs": [
    {
     "data": {
      "text/plain": [
       "<function matplotlib.pyplot.show(close=None, block=None)>"
      ]
     },
     "execution_count": 20,
     "metadata": {},
     "output_type": "execute_result"
    },
    {
     "data": {
      "image/png": "[encoded data removed]",
      "text/plain": [
       "<Figure size 1008x720 with 1 Axes>"
      ]
     },
     "metadata": {
      "needs_background": "light"
     },
     "output_type": "display_data"
    }
   ],
   "source": [
    "plt.figure(figsize=(14,10))\n",
    "plt.scatter(reduced_data[reduced_data['clusters'] == 0].loc[:, 'PC1'], reduced_data[reduced_data['clusters'] == 0].loc[:, 'PC2'], color='red')\n",
    "plt.scatter(reduced_data[reduced_data['clusters'] == 1].loc[:, 'PC1'], reduced_data[reduced_data['clusters'] == 1].loc[:, 'PC2'], color='blue')\n",
    "plt.scatter(reduced_data[reduced_data['clusters'] == 2].loc[:, 'PC1'], reduced_data[reduced_data['clusters'] == 2].loc[:, 'PC2'], color='green')\n",
    "plt.scatter(reduced_data[reduced_data['clusters'] == 3].loc[:, 'PC1'], reduced_data[reduced_data['clusters'] == 3].loc[:, 'PC2'], color='yellow')\n",
    "plt.scatter(reduced_data[reduced_data['clusters'] == 4].loc[:, 'PC1'], reduced_data[reduced_data['clusters'] == 4].loc[:, 'PC2'], color='black')\n",
    "plt.scatter(reduced_data[reduced_data['clusters'] == 5].loc[:, 'PC1'], reduced_data[reduced_data['clusters'] == 5].loc[:, 'PC2'], color='purple')\n",
    "plt.scatter(reduced_data[reduced_data['clusters'] == 6].loc[:, 'PC1'], reduced_data[reduced_data['clusters'] == 6].loc[:, 'PC2'], color='cyan')\n",
    "plt.scatter(reduced_data[reduced_data['clusters'] == 7].loc[:, 'PC1'], reduced_data[reduced_data['clusters'] == 7].loc[:, 'PC2'], color='pink')\n",
    "plt.scatter(reduced_data[reduced_data['clusters'] == 8].loc[:, 'PC1'], reduced_data[reduced_data['clusters'] == 8].loc[:, 'PC2'], color='brown')\n",
    "plt.scatter(reduced_data[reduced_data['clusters'] == 9].loc[:, 'PC1'], reduced_data[reduced_data['clusters'] == 9].loc[:, 'PC2'], color='orange')\n",
    "\n",
    "plt.scatter(reduced_centers[:, 0], reduced_centers[:, 1], color='black', marker='x', s=300)\n",
    "plt.xlabel('PC1')\n",
    "plt.ylabel('PC2')\n",
    "\n",
    "plt.show"
   ]
  },
  {
   "cell_type": "code",
   "execution_count": null,
   "id": "b5043d8f",
   "metadata": {
    "papermill": {
     "duration": 0.009349,
     "end_time": "2022-06-13T19:54:28.946853",
     "exception": false,
     "start_time": "2022-06-13T19:54:28.937504",
     "status": "completed"
    },
    "tags": []
   },
   "outputs": [],
   "source": []
  }
 ],
 "metadata": {
  "kernelspec": {
   "display_name": "Python 3",
   "language": "python",
   "name": "python3"
  },
  "language_info": {
   "codemirror_mode": {
    "name": "ipython",
    "version": 3
   },
   "file_extension": ".py",
   "mimetype": "text/x-python",
   "name": "python",
   "nbconvert_exporter": "python",
   "pygments_lexer": "ipython3",
   "version": "3.7.12"
  },
  "papermill": {
   "default_parameters": {},
   "duration": 17.089961,
   "end_time": "2022-06-13T19:54:29.778870",
   "environment_variables": {},
   "exception": null,
   "input_path": "__notebook__.ipynb",
   "output_path": "__notebook__.ipynb",
   "parameters": {},
   "start_time": "2022-06-13T19:54:12.688909",
   "version": "2.3.4"
  }
 },
 "nbformat": 4,
 "nbformat_minor": 5
}
